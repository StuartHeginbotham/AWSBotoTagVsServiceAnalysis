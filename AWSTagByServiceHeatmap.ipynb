{
 "cells": [
  {
   "cell_type": "code",
   "execution_count": null,
   "metadata": {
    "collapsed": true
   },
   "outputs": [],
   "source": [
    "# user being used requires atleast \"ResourceGroupsandTagEditorReadOnlyAccess\" policy\n",
    "# user defined by user profile at command line before running program \n",
    "#       see  -  https://docs.aws.amazon.com/cli/latest/userguide/cli-chap-configure.html\n",
    "# by Stuart Heginbotham, last update 2019-08-07\n",
    "# tested on account with arn in hundreds, using this program:\n",
    "#                  -will incurr costs\n",
    "#                  -is at your risk with absolutely no warranty or other promise of performance from the author\n",
    "\n",
    "import boto3\n",
    "import pandas as pd\n",
    "\n",
    "client = boto3.client('resourcegroupstaggingapi')"
   ]
  },
  {
   "cell_type": "code",
   "execution_count": null,
   "metadata": {
    "collapsed": true
   },
   "outputs": [],
   "source": [
    "# get_resources() with pagination  - assume per account and per region and that they are given\n",
    "\n",
    "# create paginator as get resources support pagination\n",
    "paginator = client.get_paginator('get_resources')\n",
    "pages = paginator.paginate()\n",
    "\n",
    "item_cnt=0\n",
    "page_cnt=0\n",
    "result=[]\n",
    "for page in pages:\n",
    "    page_cnt+=1\n",
    "    for item in page['ResourceTagMappingList']:  #extract from json key 'ResourceTagMappingList'\n",
    "        result.append(item) # creat list of resource ARNs that have their tag key values pairs listed\n",
    "        item_cnt+=1\n",
    "        \n",
    "# covert list if resource ARNs into dataframe of resource ARNs        \n",
    "df=pd.DataFrame(result)      \n",
    "# split out the components of ARN into a list\n",
    "df['ResourceARN']=df['ResourceARN'].apply(lambda s:s.split(':')) \n",
    "# convert list created to columns\n",
    "df=pd.DataFrame(df['ResourceARN'].values.tolist()).add_prefix('ResourceARN').join(df['Tags'])\n",
    "# retain only the column with AWS service and the tags asscoaited with it\n",
    "df=df[['ResourceARN2','Tags']]\n",
    "# rename the service column appropriately\n",
    "df.columns=['AWSService','Tags'] \n",
    "# unpack the tag keys and key values into a key and value column and expand row so that each row is a single key and value pair for a service\n",
    "df.set_index('AWSService',inplace=True)\n",
    "df=df['Tags'].apply(pd.Series).reset_index().melt(id_vars='AWSService',value_name='Tags').drop('variable',axis=1).dropna()\n",
    "df['TagKey']=df['Tags'].apply(lambda d:d['Key'])\n",
    "df['TagValue']=df['Tags'].apply(lambda d:d['Value'])\n",
    "df.drop('Tags',inplace=True,axis=1)"
   ]
  },
  {
   "cell_type": "code",
   "execution_count": null,
   "metadata": {
    "collapsed": true
   },
   "outputs": [],
   "source": [
    "# optional display the tag key, service combination with the greates variety of values for the tag key\n",
    "df.groupby(['TagKey','AWSService']).agg('count').sort_values('TagValue',ascending=False).head(10)"
   ]
  },
  {
   "cell_type": "code",
   "execution_count": null,
   "metadata": {
    "collapsed": true
   },
   "outputs": [],
   "source": [
    "# create a summary dataframe with the count indicating the variety of tag key values for a given tag key, AWS service combination\n",
    "newdf=df.groupby(['TagKey','AWSService']).agg('count')\n",
    "newdf.reset_index(inplace=True)"
   ]
  },
  {
   "cell_type": "code",
   "execution_count": null,
   "metadata": {
    "collapsed": true
   },
   "outputs": [],
   "source": [
    "# create a pivot table as the basis for the heatmap\n",
    "pv=newdf.pivot(index='TagKey', columns='AWSService',values='TagValue')"
   ]
  },
  {
   "cell_type": "code",
   "execution_count": null,
   "metadata": {
    "collapsed": true
   },
   "outputs": [],
   "source": [
    "# optional to switch on inline dsiplay of graph in anaconda\n",
    "%matplotlib inline"
   ]
  },
  {
   "cell_type": "code",
   "execution_count": null,
   "metadata": {
    "collapsed": true
   },
   "outputs": [],
   "source": [
    "import seaborn as sns\n",
    "import matplotlib\n",
    "import matplotlib.backends.backend_pdf\n",
    "\n",
    "#Defining PDF output file and title\n",
    "PDFFILE='tagplot.pdf'\n",
    "PAGETITLE='EXAMPLE - tag distribution Training'\n",
    "\n",
    "# define the file\n",
    "thePdf = matplotlib.backends.backend_pdf.PdfPages(PDFFILE)\n",
    "# set the plot size to a4 landscape\n",
    "fig, ax = plt.subplots(figsize=(11.69,8.27))\n",
    "# add the page title\n",
    "fig.text(0.2, 0.9, PAGETITLE, fontsize=14, fontweight='bold')\n",
    "# create heatmap from pivot table created earlier\n",
    "ax=sns.heatmap(pv)\n",
    "# retrieve the heatmap onto the figure\n",
    "fig = ax.get_figure()\n",
    "# save the heatmap to previously defined pdf file\n",
    "thePdf.savefig(fig,orientation='landscape',papersize='a4' )\n",
    "# close the file\n",
    "thePdf.close()\n"
   ]
  }
 ],
 "metadata": {
  "kernelspec": {
   "display_name": "Python 3",
   "language": "python",
   "name": "python3"
  },
  "language_info": {
   "codemirror_mode": {
    "name": "ipython",
    "version": 3
   },
   "file_extension": ".py",
   "mimetype": "text/x-python",
   "name": "python",
   "nbconvert_exporter": "python",
   "pygments_lexer": "ipython3",
   "version": "3.6.3"
  }
 },
 "nbformat": 4,
 "nbformat_minor": 2
}
